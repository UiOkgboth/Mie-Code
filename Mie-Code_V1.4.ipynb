{
 "cells": [
  {
   "cell_type": "code",
   "execution_count": 1,
   "metadata": {},
   "outputs": [],
   "source": [
    "%matplotlib inline\n",
    "import numpy as np\n",
    "from scipy.interpolate import interp1d\n",
    "import scipy.special as sps\n",
    "from mpl_toolkits import mplot3d\n",
    "import matplotlib.pyplot as plt\n",
    "import collections as col\n",
    "import scipy.constants as spc\n",
    "import cmath as cmath\n",
    "import warnings "
   ]
  },
  {
   "cell_type": "code",
   "execution_count": 2,
   "metadata": {},
   "outputs": [],
   "source": [
    "#Constant: Speed of light in m/s\n",
    "c = spc.c"
   ]
  },
  {
   "cell_type": "code",
   "execution_count": 3,
   "metadata": {},
   "outputs": [],
   "source": [
    "class Elements:\n",
    "    elementCount = 0\n",
    "    \n",
    "    def __init__(self, chemSymb, wp, gamma, vf, A, RefracFile):\n",
    "        self.chemSymb = chemSymb\n",
    "        self.wp = wp #E15\n",
    "        self.gamma = gamma\n",
    "        self.vf = vf\n",
    "        self.A = A\n",
    "        self.RefracFile = RefracFile\n",
    "        Elements.elementCount += 1"
   ]
  },
  {
   "cell_type": "code",
   "execution_count": 4,
   "metadata": {},
   "outputs": [],
   "source": [
    "class Compounds:\n",
    "    compoundsCount = 0\n",
    "    \n",
    "    def __init__(self,chemFormula,RefracFile):\n",
    "        self.chemFormula = chemFormula\n",
    "        self.RefracFile = RefracFile\n",
    "        Compounds.compoundsCount += 1"
   ]
  },
  {
   "cell_type": "code",
   "execution_count": 5,
   "metadata": {},
   "outputs": [],
   "source": [
    "Gold = Elements(\"Au\", 2.0674, 0.0184, 1.40, 1.25, \"Au_RefractiveIndexINFO.csv\")\n",
    "Silver = Elements(\"Ag\" ,2.231274845 ,0.0228 ,1.39 ,1.25 ,\"Ag_RefractiveIndexINFO.csv\")\n",
    "STO = Compounds(\"SrTiO3\", \"STO_RefractiveIndexINFO.csv\")"
   ]
  },
  {
   "cell_type": "code",
   "execution_count": 6,
   "metadata": {},
   "outputs": [],
   "source": [
    "#named Tuple, contains information about the particle geometry, and physical constants\n",
    "def new_particle(name, CoreParticle,Shape, ClusterS ,R ,wp ,gamma ,vf ,A):\n",
    "    particle = col.namedtuple(name,['CoreParticle', 'Shape', 'ClusterS', 'R', 'wp', 'gamma', 'vf', 'A'])\n",
    "    particle.CoreParticle = CoreParticle\n",
    "    particle.Shape = Shape\n",
    "    particle.ClusterS = ClusterS\n",
    "    particle.R = R #E-9 m\n",
    "    particle.wp = wp #E15 Hz\n",
    "    particle.gamma = gamma #E15 s\n",
    "    particle.vf = vf #E6 m/s\n",
    "    particle.A = A\n",
    "    return particle"
   ]
  },
  {
   "cell_type": "code",
   "execution_count": 7,
   "metadata": {},
   "outputs": [],
   "source": [
    "#Returns the entries of a file with one line header and all other lines entries, separated with (,) if multiple entries per line\n",
    "def loadfile(FileName):\n",
    "    data = np.loadtxt(FileName,skiprows=1,delimiter=\",\")\n",
    "          \n",
    "    data[:,0] = data[:,0]*1e3 #from um to nm (um default used on refractiveindex.info)\n",
    "    return data"
   ]
  },
  {
   "cell_type": "code",
   "execution_count": 8,
   "metadata": {},
   "outputs": [],
   "source": [
    "def extrapolate(data):\n",
    "    \n",
    "    LowerL = 120\n",
    "    UpperL = 1240\n",
    "    step = 1\n",
    "    \n",
    "    if data[0,0] < LowerL:\n",
    "        LowerL = data[0,0]\n",
    "    if data[data[:,0].size-1,0] > 1240:\n",
    "        UpperL = data[data[:,0].size-1,0]\n",
    "        \n",
    "    x_val = np.arange(LowerL, UpperL, step, dtype = int) \n",
    "    nextp_f = np.polyfit(data[:,0],data[:,1],7)\n",
    "    for k in range (1, 20,1):\n",
    "        nextp_f = np.polyfit(data[:,0],data[:,1],k)\n",
    "        nextp = np.poly1d(nextp_f)\n",
    "        nex = nextp(x_val)\n",
    "    \n",
    "        if 3*data[:,0].size == data.size:\n",
    "            kextp_f = np.polyfit(data[:,0],data[:,2],k)\n",
    "            kextp = np.poly1d(kextp_f)\n",
    "            kex = kextp(x_val)\n",
    "        else:\n",
    "            kex = np.zeros(nex.size)\n",
    "        diff = 0\n",
    "        for i in range (0,data[:,0].size-1,1):\n",
    "            diff = 0 + (nex[int(data[i,0])-LowerL]-data[i,1])\n",
    "        if abs(diff) < 1e-4:\n",
    "            break\n",
    "            \n",
    "    extrapolate_data = np.transpose(np.stack((x_val,nex,kex),axis = 0))\n",
    "    \n",
    "    return extrapolate_data"
   ]
  },
  {
   "cell_type": "code",
   "execution_count": 9,
   "metadata": {},
   "outputs": [],
   "source": [
    "#interpolates a data array [:,3] to have a value for every nm, by default \n",
    "def interpolate(data, lowerL = 200, higherL = 1240, step = 1):\n",
    "        \n",
    "    x_val = np.arange(lowerL, higherL, step, dtype = int)\n",
    "    \n",
    "    nval = interp1d(data[:,0], data[:,1], kind = 'cubic')\n",
    "    ninp = nval(x_val)\n",
    "    \n",
    "    if 3*data[:,0].size == data.size:\n",
    "        kval = interp1d(data[:,0], data[:,2], kind = 'cubic')\n",
    "        kinp = kval(x_val)\n",
    "    else:\n",
    "        kinp = np.zeros(ninp.size)\n",
    "    \n",
    "    interp_data = np.transpose(np.stack((x_val,ninp,kinp),axis = 0))\n",
    "\n",
    "    return interp_data"
   ]
  },
  {
   "cell_type": "code",
   "execution_count": 10,
   "metadata": {},
   "outputs": [],
   "source": [
    "#calculates the real and imaginary part of a dielectric function based on n and k, where n is data[:,0] and k data[:,1]\n",
    "def calc_diel_f(data0, data1):\n",
    "    eps = np.zeros([data0.size,2])\n",
    "    eps[:,0] = data0**2 - data1**2\n",
    "    eps[:,1] = 2*data0*data1\n",
    "    return eps"
   ]
  },
  {
   "cell_type": "code",
   "execution_count": 11,
   "metadata": {},
   "outputs": [],
   "source": [
    "#Applies changes to the dielectric function of the particle based on the \n",
    "def ClusterSizeEffects(Eps, wl, R, wp, gamma, vf, A):\n",
    "    \n",
    "    freq = 1883.651565/wl\n",
    "    freq2 = freq**2\n",
    "    \n",
    "    dgamma = gamma + A*vf/R\n",
    "    dgamma2 = dgamma\n",
    "    \n",
    "    Eps[:,0] = Eps[:,0] + wp**2/(freq2+gamma**2)-wp**2/(freq2+dgamma2)\n",
    "    Eps[:,1] = Eps[:,1] + wp**2/freq*(dgamma/(freq2+dgamma2)-gamma/(freq2+gamma**2))\n",
    "    \n",
    "    return Eps"
   ]
  },
  {
   "cell_type": "code",
   "execution_count": 12,
   "metadata": {},
   "outputs": [],
   "source": [
    "def bessel_jn(l,x,der = False):\n",
    "    jn = sps.spherical_jn(l, x, derivative = der)\n",
    "    return jn"
   ]
  },
  {
   "cell_type": "code",
   "execution_count": 13,
   "metadata": {},
   "outputs": [],
   "source": [
    "def bessel_yn(l,x,der = False):\n",
    "    yn = sps.spherical_yn(l, x, derivative = der)\n",
    "    return yn"
   ]
  },
  {
   "cell_type": "code",
   "execution_count": 14,
   "metadata": {},
   "outputs": [],
   "source": [
    "def CoreSphereParticle(wl, epsP, epsM, R):\n",
    "    X0 = 2*np.pi*R\n",
    "    epsM = np.sqrt(epsM)\n",
    "    \n",
    "    epsP0 = np.sqrt(epsP[:,0]**2+epsP[:,1]**2)/2\n",
    "    Y0 = np.sqrt(epsP[:,0]/2+epsP0)+1j*np.sqrt(-epsP[:,0]/2+epsP0)\n",
    "    \n",
    "    X = X0/wl*epsM[:,0]\n",
    "    Y = X0/wl*Y0\n",
    "    M = Y/X\n",
    "    \n",
    "    A = np.zeros(X.size)\n",
    "    B = np.zeros(X.size)\n",
    "    Qext = np.zeros(X.size)\n",
    "    Qsca = np.zeros(X.size)\n",
    "    \n",
    "    \n",
    "    L = 1\n",
    "    while True:\n",
    "        bjY  = bessel_jn(L,Y)\n",
    "        bjX  = bessel_jn(L,X)\n",
    "        byX  = bessel_yn(L,X)\n",
    "        bjXp = bessel_jn(L,X,True)\n",
    "         \n",
    "        pmx  = Y*bjY\n",
    "        pmxp = bjY + Y*bessel_jn(L,Y,True)\n",
    "            \n",
    "        px   = X*bjX\n",
    "        pxp  = bjX + X*bjXp\n",
    "        \n",
    "        ex   = X*bjX +1j*X*byX\n",
    "        exp  = bjX + X*bjXp + 1j*byX + 1j*X*bessel_yn(L,X,True)\n",
    "                \n",
    "        A = (M*pmx*pxp-pmxp*px)/(M*pmx*exp-pmxp*ex)\n",
    "        B = (pmx*pxp-M*pmxp*px)/(pmx*exp-M*pmxp*ex)\n",
    "        warnings.filterwarnings(\"ignore\")\n",
    "        if np.isnan(np.sum(A)) or np.isnan(np.sum(B)):\n",
    "            print(\"NaN value at L = \", L)\n",
    "\n",
    "            break\n",
    "            \n",
    "        AB = (A+B).real*(2*L+1)\n",
    "        ABabs = (A*np.conj(A))+(B*np.conj(B))*(2*L+1)\n",
    "\n",
    "        Qext = Qext + AB\n",
    "        Qsca = Qsca + ABabs\n",
    "        L += 1\n",
    "        \n",
    "    Qext = 2*Qext/X**2\n",
    "    Qsca = 2*Qsca/X**2 \n",
    "   \n",
    "    return Qext, Qsca\n"
   ]
  },
  {
   "cell_type": "code",
   "execution_count": 22,
   "metadata": {},
   "outputs": [
    {
     "name": "stdout",
     "output_type": "stream",
     "text": [
      "NaN value at L =  98\n"
     ]
    },
    {
     "data": {
      "text/plain": [
       "[<matplotlib.lines.Line2D at 0x1ee08ff2f08>]"
      ]
     },
     "execution_count": 22,
     "metadata": {},
     "output_type": "execute_result"
    },
    {
     "data": {
      "image/png": "[encoded data removed]",
      "text/plain": [
       "<Figure size 432x288 with 1 Axes>"
      ]
     },
     "metadata": {
      "needs_background": "light"
     },
     "output_type": "display_data"
    }
   ],
   "source": [
    "#Start of a new program. First, load the experimental data for the selected particle, geometry and matrix\n",
    "IParticle_data = loadfile(Gold.RefracFile)\n",
    "IMatrix_data = loadfile(STO.RefracFile)\n",
    "\n",
    "\n",
    "#Extrapolate matrix data if necessary\n",
    "if IMatrix_data[0,0] > 120 or IMatrix_data[IMatrix_data[:,0].size-1,0] < 1240:\n",
    "    Matrix_data = extrapolate(IMatrix_data)\n",
    "else:\n",
    "    Matrix_data = IMatrix_data\n",
    "    \n",
    "#Extrapolate particle data if necessary\n",
    "if IParticle_data[0,0] > 120 or IParticle_data[IParticle_data[:,0].size-1,0] < 1240:\n",
    "    Particle_data = extrapolate(IParticle_data)\n",
    "else:\n",
    "    Particle_data = IParticle_data\n",
    "\n",
    "#the same interpolation limits are applied to all materials involved (no extrapolation at the moment TODO: Extrapolation)\n",
    "if Particle_data[0,0] < Matrix_data[0,0]:\n",
    "    lowerL = Matrix_data[0,0]\n",
    "else:\n",
    "    lowerL = Particle_data[0,0]\n",
    "\n",
    "if Particle_data[Particle_data[:,0].size-1, 0] > Matrix_data[Matrix_data[:,0].size-1, 0]:\n",
    "    higherL = Matrix_data[Matrix_data[:,0].size-1, 0]\n",
    "else:\n",
    "    higherL = Particle_data[Particle_data[:,0].size-1, 0]\n",
    "    \n",
    "PD_int = interpolate(Particle_data,lowerL,higherL)\n",
    "MD_int = interpolate(Matrix_data,lowerL,higherL)\n",
    "\n",
    "#Particle = new_particle('AgParticle', True, 'Sphere', True, 10, Silver.wp, Silver.gamma, Silver.vf, Silver.A)\n",
    "Particle = new_particle('AuParticle', True, 'Sphere', True, 10, Gold.wp, Gold.gamma, Gold.vf, Gold.A)\n",
    "#Wavelength \n",
    "WL = PD_int[:,0]\n",
    "\n",
    "#calculate the dielectric functions of the materials involved\n",
    "TP_Eps = calc_diel_f(PD_int[:,1],PD_int[:,2])\n",
    "M_Eps = calc_diel_f(MD_int[:,1],MD_int[:,2])\n",
    "\n",
    "#obtain the changed dielectric function due to cluster size effects (particles only) or ignore them\n",
    "if Particle.ClusterS:\n",
    "    P_Eps = ClusterSizeEffects(TP_Eps, WL, Particle.R, Particle.wp, Particle.gamma, Particle.vf, Particle.A)\n",
    "else:\n",
    "    P_Eps = TP_Eps\n",
    "    \n",
    "#Calculate the Qext and Qsca if the particle is a core particle and spherical\n",
    "if Particle.Shape == \"Sphere\" and Particle.CoreParticle:\n",
    "    Qext, Qsca = CoreSphereParticle(WL, P_Eps, M_Eps, Particle.R)\n",
    "#TODO: implement what happenes if particle is no a sphere and coreparticle\n",
    "else:\n",
    "    print(\"Please implement this\")\n",
    "\n",
    "plt.plot(1239.8/WL,Qext)"
   ]
  },
  {
   "cell_type": "code",
   "execution_count": null,
   "metadata": {},
   "outputs": [],
   "source": []
  },
  {
   "cell_type": "code",
   "execution_count": null,
   "metadata": {},
   "outputs": [],
   "source": []
  }
 ],
 "metadata": {
  "kernelspec": {
   "display_name": "Python 3",
   "language": "python",
   "name": "python3"
  },
  "language_info": {
   "codemirror_mode": {
    "name": "ipython",
    "version": 3
   },
   "file_extension": ".py",
   "mimetype": "text/x-python",
   "name": "python",
   "nbconvert_exporter": "python",
   "pygments_lexer": "ipython3",
   "version": "3.7.9"
  }
 },
 "nbformat": 4,
 "nbformat_minor": 4
}
